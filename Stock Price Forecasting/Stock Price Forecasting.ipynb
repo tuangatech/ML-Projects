{
 "cells": [
  {
   "cell_type": "code",
   "execution_count": 1,
   "metadata": {
    "id": "v_rfN8PjlrJx"
   },
   "outputs": [],
   "source": [
    "# from google.colab import drive\n",
    "# drive.mount('/content/drive')"
   ]
  },
  {
   "cell_type": "markdown",
   "metadata": {
    "id": "7jAw3_hwnwW1"
   },
   "source": [
    "## Import Necessary Libraries"
   ]
  },
  {
   "cell_type": "code",
   "execution_count": 2,
   "metadata": {
    "id": "dosDZDmSjp66"
   },
   "outputs": [],
   "source": [
    "import yfinance as yf\n",
    "import pandas as pd\n",
    "import numpy as np\n",
    "import matplotlib.pyplot as plt\n",
    "\n",
    "from sklearn.preprocessing import MinMaxScaler\n",
    "from sklearn.model_selection import train_test_split\n",
    "import torch\n",
    "import torch.nn as nn\n",
    "from torch.autograd import Variable"
   ]
  },
  {
   "cell_type": "markdown",
   "metadata": {
    "id": "Cxl4n_CQY7qv"
   },
   "source": [
    "## Prepare Data\n",
    "\n",
    "In this project, we will train an LSTM model to predict stock price movements. Before we can build the \"crystal ball\" to predict the future, we need historical stock price data to train our deep learning model. To this end, we will query the Yahoo Finance stock data API."
   ]
  },
  {
   "cell_type": "code",
   "execution_count": 3,
   "metadata": {
    "id": "lmQOo7hBD7Co"
   },
   "outputs": [],
   "source": [
    "# Settings\n",
    "ticker = \"VTI\"\n",
    "# project_folder = '/content/drive/MyDrive/Colab Notebooks/2024.12.08 Stock Price Forecasting'"
   ]
  },
  {
   "cell_type": "code",
   "execution_count": 4,
   "metadata": {
    "colab": {
     "base_uri": "https://localhost:8080/",
     "height": 269
    },
    "executionInfo": {
     "elapsed": 502,
     "status": "ok",
     "timestamp": 1734123125904,
     "user": {
      "displayName": "Tuan Tran",
      "userId": "11681548658632899581"
     },
     "user_tz": 300
    },
    "id": "-h1vcw7fkZkY",
    "outputId": "9a689c66-02b0-430a-d2c5-fade55cca784"
   },
   "outputs": [
    {
     "name": "stdout",
     "output_type": "stream",
     "text": [
      "YF.download() has changed argument auto_adjust default to True\n"
     ]
    },
    {
     "data": {
      "text/html": [
       "<div>\n",
       "<style scoped>\n",
       "    .dataframe tbody tr th:only-of-type {\n",
       "        vertical-align: middle;\n",
       "    }\n",
       "\n",
       "    .dataframe tbody tr th {\n",
       "        vertical-align: top;\n",
       "    }\n",
       "\n",
       "    .dataframe thead tr th {\n",
       "        text-align: left;\n",
       "    }\n",
       "\n",
       "    .dataframe thead tr:last-of-type th {\n",
       "        text-align: right;\n",
       "    }\n",
       "</style>\n",
       "<table border=\"1\" class=\"dataframe\">\n",
       "  <thead>\n",
       "    <tr>\n",
       "      <th>Price</th>\n",
       "      <th>Close</th>\n",
       "      <th>High</th>\n",
       "      <th>Low</th>\n",
       "      <th>Open</th>\n",
       "      <th>Volume</th>\n",
       "    </tr>\n",
       "    <tr>\n",
       "      <th>Ticker</th>\n",
       "      <th>VTI</th>\n",
       "      <th>VTI</th>\n",
       "      <th>VTI</th>\n",
       "      <th>VTI</th>\n",
       "      <th>VTI</th>\n",
       "    </tr>\n",
       "    <tr>\n",
       "      <th>Date</th>\n",
       "      <th></th>\n",
       "      <th></th>\n",
       "      <th></th>\n",
       "      <th></th>\n",
       "      <th></th>\n",
       "    </tr>\n",
       "  </thead>\n",
       "  <tbody>\n",
       "    <tr>\n",
       "      <th>2025-02-24</th>\n",
       "      <td>294.410004</td>\n",
       "      <td>297.339996</td>\n",
       "      <td>293.890015</td>\n",
       "      <td>296.959991</td>\n",
       "      <td>4465400</td>\n",
       "    </tr>\n",
       "    <tr>\n",
       "      <th>2025-02-25</th>\n",
       "      <td>292.950012</td>\n",
       "      <td>294.829987</td>\n",
       "      <td>290.540009</td>\n",
       "      <td>294.399994</td>\n",
       "      <td>3509200</td>\n",
       "    </tr>\n",
       "    <tr>\n",
       "      <th>2025-02-26</th>\n",
       "      <td>293.049988</td>\n",
       "      <td>295.700012</td>\n",
       "      <td>291.869995</td>\n",
       "      <td>293.899994</td>\n",
       "      <td>2807300</td>\n",
       "    </tr>\n",
       "    <tr>\n",
       "      <th>2025-02-27</th>\n",
       "      <td>288.510010</td>\n",
       "      <td>294.790009</td>\n",
       "      <td>288.399994</td>\n",
       "      <td>294.339996</td>\n",
       "      <td>2747300</td>\n",
       "    </tr>\n",
       "    <tr>\n",
       "      <th>2025-02-28</th>\n",
       "      <td>292.959991</td>\n",
       "      <td>293.209991</td>\n",
       "      <td>287.350006</td>\n",
       "      <td>288.630005</td>\n",
       "      <td>3483700</td>\n",
       "    </tr>\n",
       "  </tbody>\n",
       "</table>\n",
       "</div>"
      ],
      "text/plain": [
       "Price            Close        High         Low        Open   Volume\n",
       "Ticker             VTI         VTI         VTI         VTI      VTI\n",
       "Date                                                               \n",
       "2025-02-24  294.410004  297.339996  293.890015  296.959991  4465400\n",
       "2025-02-25  292.950012  294.829987  290.540009  294.399994  3509200\n",
       "2025-02-26  293.049988  295.700012  291.869995  293.899994  2807300\n",
       "2025-02-27  288.510010  294.790009  288.399994  294.339996  2747300\n",
       "2025-02-28  292.959991  293.209991  287.350006  288.630005  3483700"
      ]
     },
     "execution_count": 4,
     "metadata": {},
     "output_type": "execute_result"
    }
   ],
   "source": [
    "try:\n",
    "    data_raw = yf.download(ticker, period='5y', interval='1d', progress=False)\n",
    "    # data_latest = yf.download(\"VTI\", period='5d', interval='1m')\n",
    "except Exception as e:\n",
    "    print('ERROR:', e)\n",
    "\n",
    "data_raw.dropna()\n",
    "data_raw.tail()"
   ]
  },
  {
   "cell_type": "code",
   "execution_count": 5,
   "metadata": {
    "colab": {
     "base_uri": "https://localhost:8080/"
    },
    "executionInfo": {
     "elapsed": 4,
     "status": "ok",
     "timestamp": 1734123125904,
     "user": {
      "displayName": "Tuan Tran",
      "userId": "11681548658632899581"
     },
     "user_tz": 300
    },
    "id": "aKihKQgqDQ7u",
    "outputId": "faa2c9a2-c128-471b-a572-5e850a5b1629"
   },
   "outputs": [
    {
     "data": {
      "text/plain": [
       "(1257, 5)"
      ]
     },
     "execution_count": 5,
     "metadata": {},
     "output_type": "execute_result"
    }
   ],
   "source": [
    "data_raw.shape"
   ]
  },
  {
   "cell_type": "markdown",
   "metadata": {
    "id": "HGMMUSUYZTmg"
   },
   "source": [
    "Please note that we are using the **adjusted close** (??) field of Yahoo Finance's daily adjusted API to remove any artificial price turbulences due to stock splits and dividend payout events. It is generally considered an industry best practice to use split/dividend-adjusted prices instead of raw prices to model stock price movements."
   ]
  },
  {
   "cell_type": "code",
   "execution_count": 6,
   "metadata": {
    "colab": {
     "base_uri": "https://localhost:8080/",
     "height": 472
    },
    "executionInfo": {
     "elapsed": 986,
     "status": "ok",
     "timestamp": 1734123126887,
     "user": {
      "displayName": "Tuan Tran",
      "userId": "11681548658632899581"
     },
     "user_tz": 300
    },
    "id": "3m8KGh4fDsPz",
    "outputId": "269387ff-4969-4159-a5d2-4cf02d5fb8ba"
   },
   "outputs": [
    {
     "data": {
      "image/png": "[encoded data removed]",
      "text/plain": [
       "<Figure size 640x480 with 1 Axes>"
      ]
     },
     "metadata": {},
     "output_type": "display_data"
    }
   ],
   "source": [
    "plt.plot(data_raw['Close'])\n",
    "plt.title(f\"{ticker} Price\")\n",
    "plt.xlabel ('Time')\n",
    "plt.ylabel ('Close Price (US$)')\n",
    "plt.show()"
   ]
  },
  {
   "cell_type": "markdown",
   "metadata": {
    "id": "Wes8tIHWarkU"
   },
   "source": [
    "Consider to save data to a file."
   ]
  },
  {
   "cell_type": "code",
   "execution_count": 7,
   "metadata": {
    "id": "Fs_DIn79luba"
   },
   "outputs": [],
   "source": [
    "# # Specify the path within your Google Drive\n",
    "# path = f'{project_folder}/VTI_Stock.csv'\n",
    "\n",
    "# # Save the data to Google Drive\n",
    "# data.to_csv(path, index=False)\n",
    "\n",
    "# # Load data from the file\n",
    "# data = pd.read_csv(path)"
   ]
  },
  {
   "cell_type": "markdown",
   "metadata": {
    "id": "iFMmlDFBnexO"
   },
   "source": [
    "## Preprocess Data\n",
    "\n",
    "*   Add 20-day, 50-day moving average and RSI features to the dataframe.\n",
    "*   Normalize the data using MinMaxScaler for better LSTM performance.\n",
    "\n"
   ]
  },
  {
   "cell_type": "code",
   "execution_count": 8,
   "metadata": {
    "id": "8ttO0oWqBcwy"
   },
   "outputs": [],
   "source": [
    "def add_features(data):\n",
    "  data['Returns'] = data['Close'][ticker].pct_change()\n",
    "  # Calculate 20-day moving average\n",
    "  data['MA20'] = data['Close'][ticker].rolling(window=20).mean()\n",
    "  data['MA50'] = data['Close'][ticker].rolling(window=50).mean()\n",
    "  data['RSI'] = calculate_rsi(data['Close'][ticker])\n",
    "  data['Volume_MA20'] = data['Volume'][ticker].rolling(window=20).mean()\n",
    "  # Drop NaN values created by moving average\n",
    "  return data.dropna()\n",
    "\n",
    "def add_features2(data):\n",
    "  data['Returns'] = data['Close'][ticker].diff()  # returns, differences between days\n",
    "  data['RSI'] = calculate_rsi(data['Close'][ticker])\n",
    "  data['Volume_MA20'] = data['Volume'][ticker].rolling(window=20).mean()\n",
    "  # Drop NaN values created by moving average\n",
    "  return data.dropna()\n",
    "\n",
    "def calculate_rsi(prices, period=14):\n",
    "  delta = prices.diff()\n",
    "  gain = (delta.where(delta > 0, 0)).rolling(window=period).mean()\n",
    "  loss = (-delta.where(delta < 0, 0)).rolling(window=period).mean()\n",
    "  rs = gain / loss\n",
    "  return 100 - (100 / (1 + rs))"
   ]
  },
  {
   "cell_type": "code",
   "execution_count": 9,
   "metadata": {
    "colab": {
     "base_uri": "https://localhost:8080/",
     "height": 272
    },
    "executionInfo": {
     "elapsed": 15,
     "status": "ok",
     "timestamp": 1734123126888,
     "user": {
      "displayName": "Tuan Tran",
      "userId": "11681548658632899581"
     },
     "user_tz": 300
    },
    "id": "ruQEBapHIHiA",
    "outputId": "595212d5-baf8-4c56-f3b1-3b498801d99b"
   },
   "outputs": [
    {
     "data": {
      "text/plain": [
       "Date\n",
       "2020-03-02    145.202225\n",
       "2020-03-03    141.457962\n",
       "2020-03-04    147.111465\n",
       "2020-03-05    142.208664\n",
       "2020-03-06    139.567276\n",
       "Name: VTI, dtype: float64"
      ]
     },
     "execution_count": 9,
     "metadata": {},
     "output_type": "execute_result"
    }
   ],
   "source": [
    "data_raw['Close'][ticker].head()"
   ]
  },
  {
   "cell_type": "markdown",
   "metadata": {
    "id": "bqjPHhbEiDIz"
   },
   "source": [
    "Compute common indicators like moving averages (MA) and the Relative Strength Index (RSI) to capture the trends and momentum of the stock."
   ]
  },
  {
   "cell_type": "code",
   "execution_count": 10,
   "metadata": {
    "id": "qj8wFNJ4hfcv"
   },
   "outputs": [],
   "source": [
    "data = add_features(data_raw)\n",
    "data2 = add_features2(data_raw)"
   ]
  },
  {
   "cell_type": "code",
   "execution_count": 11,
   "metadata": {
    "colab": {
     "base_uri": "https://localhost:8080/",
     "height": 269
    },
    "executionInfo": {
     "elapsed": 117,
     "status": "ok",
     "timestamp": 1734123152679,
     "user": {
      "displayName": "Tuan Tran",
      "userId": "11681548658632899581"
     },
     "user_tz": 300
    },
    "id": "5a111oFzIsfd",
    "outputId": "087e7711-68d0-434f-9b98-5e62f527319c"
   },
   "outputs": [
    {
     "data": {
      "text/html": [
       "<div>\n",
       "<style scoped>\n",
       "    .dataframe tbody tr th:only-of-type {\n",
       "        vertical-align: middle;\n",
       "    }\n",
       "\n",
       "    .dataframe tbody tr th {\n",
       "        vertical-align: top;\n",
       "    }\n",
       "\n",
       "    .dataframe thead tr th {\n",
       "        text-align: left;\n",
       "    }\n",
       "\n",
       "    .dataframe thead tr:last-of-type th {\n",
       "        text-align: right;\n",
       "    }\n",
       "</style>\n",
       "<table border=\"1\" class=\"dataframe\">\n",
       "  <thead>\n",
       "    <tr>\n",
       "      <th>Price</th>\n",
       "      <th>Close</th>\n",
       "      <th>Returns</th>\n",
       "      <th>MA20</th>\n",
       "      <th>MA50</th>\n",
       "      <th>RSI</th>\n",
       "      <th>Volume_MA20</th>\n",
       "    </tr>\n",
       "    <tr>\n",
       "      <th>Ticker</th>\n",
       "      <th>VTI</th>\n",
       "      <th></th>\n",
       "      <th></th>\n",
       "      <th></th>\n",
       "      <th></th>\n",
       "      <th></th>\n",
       "    </tr>\n",
       "    <tr>\n",
       "      <th>Date</th>\n",
       "      <th></th>\n",
       "      <th></th>\n",
       "      <th></th>\n",
       "      <th></th>\n",
       "      <th></th>\n",
       "      <th></th>\n",
       "    </tr>\n",
       "  </thead>\n",
       "  <tbody>\n",
       "    <tr>\n",
       "      <th>2025-02-24</th>\n",
       "      <td>294.410004</td>\n",
       "      <td>-0.005103</td>\n",
       "      <td>299.368002</td>\n",
       "      <td>296.555303</td>\n",
       "      <td>45.662470</td>\n",
       "      <td>3184980.0</td>\n",
       "    </tr>\n",
       "    <tr>\n",
       "      <th>2025-02-25</th>\n",
       "      <td>292.950012</td>\n",
       "      <td>-0.004959</td>\n",
       "      <td>299.160503</td>\n",
       "      <td>296.445715</td>\n",
       "      <td>37.500000</td>\n",
       "      <td>3094375.0</td>\n",
       "    </tr>\n",
       "    <tr>\n",
       "      <th>2025-02-26</th>\n",
       "      <td>293.049988</td>\n",
       "      <td>0.000341</td>\n",
       "      <td>298.830502</td>\n",
       "      <td>296.290082</td>\n",
       "      <td>33.726320</td>\n",
       "      <td>3098875.0</td>\n",
       "    </tr>\n",
       "    <tr>\n",
       "      <th>2025-02-27</th>\n",
       "      <td>288.510010</td>\n",
       "      <td>-0.015492</td>\n",
       "      <td>298.337503</td>\n",
       "      <td>296.077938</td>\n",
       "      <td>25.639955</td>\n",
       "      <td>3105230.0</td>\n",
       "    </tr>\n",
       "    <tr>\n",
       "      <th>2025-02-28</th>\n",
       "      <td>292.959991</td>\n",
       "      <td>0.015424</td>\n",
       "      <td>297.973503</td>\n",
       "      <td>295.957785</td>\n",
       "      <td>40.582915</td>\n",
       "      <td>3134855.0</td>\n",
       "    </tr>\n",
       "  </tbody>\n",
       "</table>\n",
       "</div>"
      ],
      "text/plain": [
       "Price            Close   Returns        MA20        MA50        RSI  \\\n",
       "Ticker             VTI                                                \n",
       "Date                                                                  \n",
       "2025-02-24  294.410004 -0.005103  299.368002  296.555303  45.662470   \n",
       "2025-02-25  292.950012 -0.004959  299.160503  296.445715  37.500000   \n",
       "2025-02-26  293.049988  0.000341  298.830502  296.290082  33.726320   \n",
       "2025-02-27  288.510010 -0.015492  298.337503  296.077938  25.639955   \n",
       "2025-02-28  292.959991  0.015424  297.973503  295.957785  40.582915   \n",
       "\n",
       "Price      Volume_MA20  \n",
       "Ticker                  \n",
       "Date                    \n",
       "2025-02-24   3184980.0  \n",
       "2025-02-25   3094375.0  \n",
       "2025-02-26   3098875.0  \n",
       "2025-02-27   3105230.0  \n",
       "2025-02-28   3134855.0  "
      ]
     },
     "execution_count": 11,
     "metadata": {},
     "output_type": "execute_result"
    }
   ],
   "source": [
    "data = data[[\"Close\", \"Returns\", \"MA20\", \"MA50\", \"RSI\", \"Volume_MA20\"]]\n",
    "no_features = data.shape[1]\n",
    "\n",
    "data.tail()"
   ]
  },
  {
   "cell_type": "markdown",
   "metadata": {
    "id": "BXvqdN_pYpEM"
   },
   "source": [
    "### Normalizing raw data\n",
    "\n",
    "Machine learning algorithms (such as our LSTM algorithm) that use gradient descent as the optimization technique require data to be scaled. This is due to the fact that the feature values in the model will affect the step size of the gradient descent, potentially skewing the LSTM model in unexpected ways.\n",
    "\n",
    "This is where data normalization comes in. Normalization can increase the accuracy of your model and help the gradient descent algorithm converge more quickly towards the target minima. By bringing the input data on the same scale and reducing its variance, none of the weights in the artificial neural network will be wasted on normalizing tasks, which means the LSTM model can more efficiently learn from the data and store patterns in the network. Furthermore, LSTMs are intrinsically sensitive to the scale of the input data. For the above reasons, it is crucial to normalize the data.\n",
    "\n",
    "Since stock prices can range from tens to hundreds and thousands - $40 to $160 in the case of IBM - we will perform normalization on the stock prices to standardize the range of these values before feeding the data to the LSTM model. The following code snippet rescales the data to have a mean of 0 and the standard deviation is 1.\n",
    "\n",
    "Reference: https://github.com/jinglescode/time-series-forecasting-pytorch"
   ]
  },
  {
   "cell_type": "code",
   "execution_count": 12,
   "metadata": {
    "id": "0F030oSYJvXB"
   },
   "outputs": [],
   "source": [
    "# Scale data\n",
    "scaler = MinMaxScaler(feature_range=(0, 1))\n",
    "data_scaled = scaler.fit_transform(data)"
   ]
  },
  {
   "cell_type": "markdown",
   "metadata": {
    "id": "Br5A4A84Z6EP"
   },
   "source": [
    "### Generating training and validation datasets\n",
    "\n",
    "Supervised machine learning methods such as LSTM learns the mapping function from input variables (X) to the output variable (Y). Learning from the training dataset can be thought of as a teacher supervising the learning process, where the teacher knows all the right answers.\n",
    "\n",
    "In this project, we will train the model to **predict the 21st day price** based on the past 20 days' close prices. The number of days, 20, was selected based on a few reasons:\n",
    "\n",
    "* When LSTM models are used in natural language processing, the number of words in a sentence typically ranges from 15 to 20 words\n",
    "* Gradient descent considerations: attempting to back-propagate across very long input sequences may result in vanishing gradients\n",
    "* Longer sequences tend to have much longer training times\n",
    "\n",
    "After transforming the dataset into input features and output labels, the shape of our X is (5388, 20), 5388 for the number of rows, each row containing a sequence of past 20 days' prices. The corresponding Y data shape is  (5388,), which matches the number of rows in X."
   ]
  },
  {
   "cell_type": "code",
   "execution_count": 13,
   "metadata": {
    "colab": {
     "base_uri": "https://localhost:8080/"
    },
    "executionInfo": {
     "elapsed": 3,
     "status": "ok",
     "timestamp": 1734123152782,
     "user": {
      "displayName": "Tuan Tran",
      "userId": "11681548658632899581"
     },
     "user_tz": 300
    },
    "id": "9dOEmjCqiWNU",
    "outputId": "06fd4483-97d8-4e68-df06-abdc785c5ed7"
   },
   "outputs": [
    {
     "name": "stdout",
     "output_type": "stream",
     "text": [
      "Train shape: (845, 6)\n",
      "Test shape: (363, 6)\n"
     ]
    }
   ],
   "source": [
    "# Split data into train and test sets\n",
    "train_data, test_data = train_test_split(data_scaled, test_size=0.3, shuffle=False)\n",
    "print(\"Train shape:\", train_data.shape)\n",
    "print(\"Test shape:\", test_data.shape)"
   ]
  },
  {
   "cell_type": "markdown",
   "metadata": {
    "id": "OpnRiUakigiH"
   },
   "source": [
    "## Prepare Data for LSTM\n",
    "\n",
    "Format the data into sequences for LSTM input."
   ]
  },
  {
   "cell_type": "code",
   "execution_count": 14,
   "metadata": {
    "colab": {
     "base_uri": "https://localhost:8080/"
    },
    "executionInfo": {
     "elapsed": 227,
     "status": "ok",
     "timestamp": 1734123153007,
     "user": {
      "displayName": "Tuan Tran",
      "userId": "11681548658632899581"
     },
     "user_tz": 300
    },
    "id": "VyRv_1V5iixz",
    "outputId": "9efcf91d-0f6d-4c61-d0c6-f915916d5328"
   },
   "outputs": [
    {
     "name": "stdout",
     "output_type": "stream",
     "text": [
      "Length:  825\n",
      "Length:  343\n"
     ]
    }
   ],
   "source": [
    "def create_sequences(data, sequence_length):\n",
    "    X, y = [], []\n",
    "    for i in range(len(data) - sequence_length):\n",
    "        X.append(data[i:i + sequence_length])  # Data of 20 days\n",
    "        y.append(data[i + sequence_length][0])  # Predict the 'Close' price (column 0) of the 21st day\n",
    "    print(\"Length: \", len(X))\n",
    "    return np.array(X), np.array(y)\n",
    "\n",
    "sequence_length = 20  # Use 20 days as a sequence\n",
    "X_train, y_train = create_sequences(train_data, sequence_length)\n",
    "X_test, y_test = create_sequences(test_data, sequence_length)\n",
    "\n",
    "# Convert to PyTorch tensors\n",
    "X_train = torch.tensor(X_train, dtype=torch.float32)\n",
    "y_train = torch.tensor(y_train, dtype=torch.float32)\n",
    "X_test = torch.tensor(X_test, dtype=torch.float32)\n",
    "y_test = torch.tensor(y_test, dtype=torch.float32)"
   ]
  },
  {
   "cell_type": "code",
   "execution_count": 15,
   "metadata": {
    "colab": {
     "base_uri": "https://localhost:8080/"
    },
    "executionInfo": {
     "elapsed": 9,
     "status": "ok",
     "timestamp": 1734123153007,
     "user": {
      "displayName": "Tuan Tran",
      "userId": "11681548658632899581"
     },
     "user_tz": 300
    },
    "id": "u3-x2FqW_9_l",
    "outputId": "9c7088c5-d9ac-4024-9227-e692cf08b6c7"
   },
   "outputs": [
    {
     "name": "stdout",
     "output_type": "stream",
     "text": [
      "Length:  3\n",
      "Features:\n",
      " [[['1' 'a']\n",
      "  ['2' 'b']\n",
      "  ['3' 'c']]\n",
      "\n",
      " [['2' 'b']\n",
      "  ['3' 'c']\n",
      "  ['4' 'd']]\n",
      "\n",
      " [['3' 'c']\n",
      "  ['4' 'd']\n",
      "  ['5' 'e']]]\n",
      "Target: [4 5 6]\n"
     ]
    }
   ],
   "source": [
    "data2 = [[1, 'a'], [2, 'b'], [3, 'c'], [4, 'd'], [5, 'e'], [6, 'f']]\n",
    "\n",
    "X_1, y_1 = create_sequences(data2, sequence_length=3)\n",
    "print(\"Features:\\n\", X_1)\n",
    "print(\"Target:\", y_1)"
   ]
  },
  {
   "cell_type": "code",
   "execution_count": 16,
   "metadata": {
    "colab": {
     "base_uri": "https://localhost:8080/"
    },
    "executionInfo": {
     "elapsed": 6,
     "status": "ok",
     "timestamp": 1734123153007,
     "user": {
      "displayName": "Tuan Tran",
      "userId": "11681548658632899581"
     },
     "user_tz": 300
    },
    "id": "wRvSCpiCjQWr",
    "outputId": "7e9d8780-fd6d-4172-8780-e11ff9d586a7"
   },
   "outputs": [
    {
     "data": {
      "text/plain": [
       "tensor([0.4978, 0.4980, 0.5088, 0.4938, 0.4939])"
      ]
     },
     "execution_count": 16,
     "metadata": {},
     "output_type": "execute_result"
    }
   ],
   "source": [
    "y_train[-5:]"
   ]
  },
  {
   "cell_type": "markdown",
   "metadata": {
    "id": "HZVBVwR-2p7l"
   },
   "source": [
    "Instead, use DataLoader.\n",
    "\n",
    "Traditional k-fold Cross-Validation doesn't work with time series data.\n",
    "1. Temporal Dependencies: Stock prices are time-dependent, meaning past values influence future values. Traditional k-fold cross-validation would randomly split the data into folds, which disrupts this temporal order.\n",
    "\n",
    "2. Data Leakage: If future data points are used in the training set to predict earlier data points (as can happen in k-fold CV), it introduces information that would not be available in real-world predictions, leading to overly optimistic performance estimates.\n",
    "\n",
    "Apply **Walk-Forward Cross-Validation** (Rolling Window) for Time Series.\n",
    "* The training set grows over time as the model is retrained on progressively larger portions of the data.\n",
    "* The validation set always comes immediately after the training set in time.\n",
    "* Example:\n",
    "  * Fold 1: Train on t1...t100, validate on t101...t120.\n",
    "  * Fold 2: Train on t1...t120, validate on t121...t140.\n",
    "  * Fold 3: Train on t1...t140, validate on t141...t160.\n",
    "\n",
    "This ensures predictions for each validation set are based only on past data."
   ]
  },
  {
   "cell_type": "code",
   "execution_count": 17,
   "metadata": {
    "id": "DHqNQxmZ2o30"
   },
   "outputs": [],
   "source": [
    "from torch.utils.data import Dataset, Subset, DataLoader\n",
    "\n",
    "class StockPriceDataset(Dataset):\n",
    "    def __init__(self, data, sequence_length):\n",
    "        self.data = data\n",
    "        self.sequence_length = sequence_length\n",
    "\n",
    "    def __len__(self):\n",
    "        return len(self.data) - self.sequence_length\n",
    "\n",
    "    def __getitem__(self, idx):\n",
    "        # Extract sequences and corresponding targets\n",
    "        X = self.data[idx:idx + self.sequence_length, :]  # Features\n",
    "        y = self.data[idx + self.sequence_length, 0]       # Target\n",
    "        return torch.tensor(X, dtype=torch.float32), torch.tensor(y, dtype=torch.float32)\n",
    "\n",
    "\n",
    "def walk_forward_split(dataset, n_splits=5):\n",
    "    \"\"\"\n",
    "    Generator for walk-forward validation splits.\n",
    "    Args:\n",
    "        dataset (Dataset): PyTorch Dataset object.\n",
    "        n_splits (int): Number of validation splits.\n",
    "    Yields:\n",
    "        train_loader, val_loader: DataLoaders for train and validation sets.\n",
    "    \"\"\"\n",
    "    batch_size = 32\n",
    "    data_len = len(dataset)\n",
    "    split_size = data_len // (n_splits + 1)  # Reserve the last split for testing\n",
    "\n",
    "    for i in range(n_splits):\n",
    "        train_end = (i + 1) * split_size\n",
    "        val_start = train_end\n",
    "        val_end = val_start + split_size\n",
    "\n",
    "        # Create subsets for training and validation\n",
    "        train_subset = Subset(dataset, list(range(0, train_end)))\n",
    "        val_subset = Subset(dataset, list(range(val_start, val_end)))\n",
    "\n",
    "        # DataLoaders for train and validation using *batch_size*\n",
    "        train_loader = DataLoader(train_subset, batch_size=batch_size, shuffle=False)\n",
    "        val_loader = DataLoader(val_subset, batch_size=batch_size, shuffle=False)\n",
    "\n",
    "        yield train_loader, val_loader"
   ]
  },
  {
   "cell_type": "code",
   "execution_count": 18,
   "metadata": {
    "id": "CwtaHxBuE3xg"
   },
   "outputs": [],
   "source": [
    "\n",
    "# Assuming 'processed_data' is your preprocessed NumPy array or DataFrame\n",
    "train_dataset = StockPriceDataset(train_data, sequence_length=20)\n",
    "# val_dataset = StockPriceDataset(test_data, sequence_length=20)\n",
    "\n",
    "# train_loader = DataLoader(train_dataset, batch_size=32, shuffle=False)\n",
    "# val_loader = DataLoader(val_dataset, batch_size=32, shuffle=False)"
   ]
  },
  {
   "cell_type": "markdown",
   "metadata": {
    "id": "EMK7blfDnXJH"
   },
   "source": [
    "## Define LSTM Model\n",
    "\n",
    "Use an LSTM layer with dropout for regularization."
   ]
  },
  {
   "cell_type": "code",
   "execution_count": 19,
   "metadata": {
    "id": "2uPt_KfwjTp7"
   },
   "outputs": [],
   "source": [
    "class LSTMModel(nn.Module):\n",
    "    def __init__(self, input_size=no_features, hidden_size=64, num_layers=1, dropout=0.2, output_size=1):\n",
    "      # input_size = no_features [\"Close\", \"Returns\", \"MA20\", \"MA50\", \"RSI\", \"Volume_MA20\"]\n",
    "        super(LSTMModel, self).__init__()\n",
    "        self.hidden_size = hidden_size\n",
    "        self.num_layers = num_layers\n",
    "        self.lstm = nn.LSTM(input_size, hidden_size, num_layers, batch_first=True, dropout=dropout)\n",
    "        self.fc = nn.Linear(hidden_size, output_size)  # output_size=1, it's the predicted price\n",
    "\n",
    "    def forward(self, x):\n",
    "        batch_size = x.size(0)\n",
    "        h0 = torch.zeros(self.num_layers, batch_size, self.hidden_size).to(x.device)\n",
    "        c0 = torch.zeros(self.num_layers, batch_size, self.hidden_size).to(x.device)\n",
    "        out, _ = self.lstm(x, (h0, c0))\n",
    "        out = self.fc(out[:, -1, :])\n",
    "        return out"
   ]
  },
  {
   "cell_type": "markdown",
   "metadata": {
    "id": "uHE9bvuDomcK"
   },
   "source": [
    "## Train the Model\n",
    "\n",
    "*   Define loss function and optimizer.\n",
    "*   Train dataset has 341 items. Each item consists of features of 20 days and the target = the price of the 21st day.\n",
    "*   Use **walk forward validation**, split train_data into train and validation data loaders.\n",
    "*   Data in train and validation data loaders are organized in batches, each batch consists of 32 items --> there are 11 batches in total.\n",
    "  * Fold 1: train_loader has batches 1-2, val_loader has batches 3-4\n",
    "  * Fold 2: train_loader has batches 1-4, val_loader has batches 5-6\n",
    "  * Fold 3: train_loader has batches 1-6, val_loader has batches 7-8\n",
    "  * Fold 4: train_loader has batches 1-7, val_loader has batches 8-9\n",
    "  * Fold 5: train_loader has batches 1-9, val_loader has batches 10-11"
   ]
  },
  {
   "cell_type": "code",
   "execution_count": 20,
   "metadata": {
    "colab": {
     "base_uri": "https://localhost:8080/"
    },
    "executionInfo": {
     "elapsed": 26771,
     "status": "ok",
     "timestamp": 1734124486883,
     "user": {
      "displayName": "Tuan Tran",
      "userId": "11681548658632899581"
     },
     "user_tz": 300
    },
    "id": "bIC8aRDLokWN",
    "outputId": "98a6fc8f-c1b8-4cf1-ad4b-d69404928fda"
   },
   "outputs": [
    {
     "name": "stderr",
     "output_type": "stream",
     "text": [
      "c:\\TuanTA\\ML Projects\\ML-Projects\\venv\\Lib\\site-packages\\torch\\nn\\modules\\rnn.py:123: UserWarning: dropout option adds dropout after all but last recurrent layer, so non-zero dropout expects num_layers greater than 1, but got dropout=0.2 and num_layers=1\n",
      "  warnings.warn(\n"
     ]
    },
    {
     "name": "stdout",
     "output_type": "stream",
     "text": [
      "Epoch 1/50, Training Loss: 0.00121, Val Loss: 0.00641\n",
      "Epoch 10/50, Training Loss: 0.00053, Val Loss: 0.00486\n",
      "Epoch 20/50, Training Loss: 0.00091, Val Loss: 0.00806\n",
      "Epoch 30/50, Training Loss: 0.00088, Val Loss: 0.00713\n",
      "Epoch 40/50, Training Loss: 0.00077, Val Loss: 0.00606\n",
      "Epoch 50/50, Training Loss: 0.00072, Val Loss: 0.00574\n"
     ]
    }
   ],
   "source": [
    "model = LSTMModel()\n",
    "criterion = nn.MSELoss()\n",
    "optimizer = torch.optim.Adam(model.parameters(), lr=0.001)\n",
    "# --> update learning rate, adaptive\n",
    "\n",
    "# Training loop\n",
    "epochs = 50\n",
    "for epoch in range(epochs):\n",
    "    model.train()\n",
    "    train_val_splits = walk_forward_split(train_dataset, n_splits=5)\n",
    "\n",
    "    for fold, (train_loader, val_loader) in enumerate(train_val_splits):\n",
    "      # X_batch consists of several batches\n",
    "      # each batch consists of 32 items\n",
    "      # each item consists of 20 data points and 1 target value (price)\n",
    "      for X_batch, y_batch in train_loader:\n",
    "          outputs = model(X_batch)\n",
    "          optimizer.zero_grad()\n",
    "          loss = criterion(outputs.squeeze(), y_batch)\n",
    "          loss.backward()\n",
    "          optimizer.step()\n",
    "\n",
    "      # Validation\n",
    "      model.eval()\n",
    "      with torch.no_grad():  # no model update\n",
    "        val_loss = 0\n",
    "        for X_batch, y_batch in val_loader:\n",
    "          outputs = model(X_batch)\n",
    "          val_loss += criterion(outputs.squeeze(), y_batch)\n",
    "\n",
    "    if epoch == 0 or (epoch+1) % 10 == 0:\n",
    "      print(f\"Epoch {epoch+1}/{epochs}, Training Loss: {loss.item():.5f}, Val Loss: {val_loss:.5f}\")  # val_loss / len(val_loader)"
   ]
  },
  {
   "cell_type": "markdown",
   "metadata": {
    "id": "OUAryBoXtEbB"
   },
   "source": [
    "## Evaluate the Model\n",
    "\n",
    "* We are not using DataLoader here.\n",
    "* Evaluate on test data (X_test, y_test) and calculate MSE metric."
   ]
  },
  {
   "cell_type": "code",
   "execution_count": 21,
   "metadata": {
    "colab": {
     "base_uri": "https://localhost:8080/"
    },
    "executionInfo": {
     "elapsed": 8,
     "status": "ok",
     "timestamp": 1734124486884,
     "user": {
      "displayName": "Tuan Tran",
      "userId": "11681548658632899581"
     },
     "user_tz": 300
    },
    "id": "mZgWIsVuowD6",
    "outputId": "d79a8b32-8523-4286-fd9a-a6c045e897f6"
   },
   "outputs": [
    {
     "name": "stdout",
     "output_type": "stream",
     "text": [
      "Test Loss: 0.00867\n"
     ]
    }
   ],
   "source": [
    "model.eval()\n",
    "with torch.no_grad():\n",
    "    predictions = model(X_test).squeeze()\n",
    "    test_loss = criterion(predictions, y_test)\n",
    "    print(f\"Test Loss: {test_loss.item():.5f}\")"
   ]
  },
  {
   "cell_type": "code",
   "execution_count": 22,
   "metadata": {
    "colab": {
     "base_uri": "https://localhost:8080/"
    },
    "executionInfo": {
     "elapsed": 6,
     "status": "ok",
     "timestamp": 1734124486884,
     "user": {
      "displayName": "Tuan Tran",
      "userId": "11681548658632899581"
     },
     "user_tz": 300
    },
    "id": "Zc04nHfm6CrS",
    "outputId": "f4d1ce15-9a67-4d64-e8db-e7c2a41aceec"
   },
   "outputs": [
    {
     "name": "stdout",
     "output_type": "stream",
     "text": [
      "[[274.24002]\n",
      " [273.4624 ]\n",
      " [272.4089 ]\n",
      " [272.21344]\n",
      " [268.68347]]\n",
      "[[294.41000762]\n",
      " [292.95001473]\n",
      " [293.049985  ]\n",
      " [288.51000488]\n",
      " [292.95999439]]\n"
     ]
    }
   ],
   "source": [
    "scale_copy = MinMaxScaler()\n",
    "scale_copy.min_, scale_copy.scale_ = scaler.min_[0], scaler.scale_[0]\n",
    "# Inverse transform the scaled data\n",
    "predicted_prices = scale_copy.inverse_transform(predictions.numpy().reshape(-1, 1))\n",
    "actual_prices = scale_copy.inverse_transform(y_test.reshape(-1, 1))\n",
    "\n",
    "print(predicted_prices[-5:])\n",
    "print(actual_prices[-5:])\n"
   ]
  },
  {
   "cell_type": "code",
   "execution_count": 23,
   "metadata": {
    "colab": {
     "base_uri": "https://localhost:8080/",
     "height": 522
    },
    "executionInfo": {
     "elapsed": 161,
     "status": "ok",
     "timestamp": 1734124487041,
     "user": {
      "displayName": "Tuan Tran",
      "userId": "11681548658632899581"
     },
     "user_tz": 300
    },
    "id": "Qu5S8Fng6HEE",
    "outputId": "95f82976-0a33-43ab-d0d6-90eff74f43de"
   },
   "outputs": [
    {
     "data": {
      "image/png": "[encoded data removed]",
      "text/plain": [
       "<Figure size 1000x600 with 1 Axes>"
      ]
     },
     "metadata": {},
     "output_type": "display_data"
    }
   ],
   "source": [
    "# Plot results\n",
    "plt.figure(figsize=(10, 6))\n",
    "plt.plot(actual_prices[:, 0], label=\"Actual Prices\")\n",
    "plt.plot(predicted_prices[:, 0], label=\"Predicted Prices\")\n",
    "plt.legend()\n",
    "plt.show()"
   ]
  },
  {
   "cell_type": "markdown",
   "metadata": {
    "id": "f69GzQPaRQ0l"
   },
   "source": [
    "## Observation\n",
    "\n",
    "LSTM model is returning a **shifted version of the input**. Depending on the nature of the dataset, there simply might be no pattern to be discovered in the data at all.\n",
    "* In the case of stock data, it is (at least at this scale) completely random, there is equal probability of moving up or down, and hence the model predicts that it will stay the exact same. The model, in a sense, learned that the best way to play is to not play at all :)\n",
    "* LSTM is finding that by repeating the last value, the loss error achieved is the minimum. But at the cost of not learning any pattern!\n",
    "\n",
    "We can reduce the similarity between t+1 and t by using a more agressive dropout, adding more data, or try simpler, less overparameterized models. However, the similarity between t+1 and t is still there.\n",
    "\n",
    "A suggestion from Stack Overflow is to learn the return/delta/difference between times (instead of actual value) and then predict the DIRECTION at t+1 - which turns the problem to CLASSIFICATION, to predict price at t+1 is UP, SAME, or DOWN."
   ]
  },
  {
   "cell_type": "markdown",
   "metadata": {
    "id": "BgR0rrIpZ_7O"
   },
   "source": [
    "## References\n",
    "1. https://github.com/jinglescode/time-series-forecasting-pytorch"
   ]
  }
 ],
 "metadata": {
  "colab": {
   "authorship_tag": "ABX9TyMjbtGL5JzuqPgmQkGdrmEn",
   "provenance": []
  },
  "kernelspec": {
   "display_name": "venv",
   "language": "python",
   "name": "python3"
  },
  "language_info": {
   "codemirror_mode": {
    "name": "ipython",
    "version": 3
   },
   "file_extension": ".py",
   "mimetype": "text/x-python",
   "name": "python",
   "nbconvert_exporter": "python",
   "pygments_lexer": "ipython3",
   "version": "3.12.0"
  }
 },
 "nbformat": 4,
 "nbformat_minor": 0
}
